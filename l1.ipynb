{
 "cells": [
  {
   "cell_type": "code",
   "execution_count": null,
   "id": "8cec7b56",
   "metadata": {},
   "outputs": [],
   "source": [
    "#\n",
    "#Сложность алгоритма квадратичная зависит от количества элементов в массиве m1 и m2. O(n) = O(m1 * m2) = O(16).\n",
    "\n",
    "m1 = [1, 12, 9, 6]\n",
    "m2 = [23, 1, 6, 72]\n",
    "\n",
    "xcros = [x for x in m1 if x in m2]\n",
    "\n",
    "print(xcros)"
   ]
  }
 ],
 "metadata": {
  "language_info": {
   "name": "python"
  }
 },
 "nbformat": 4,
 "nbformat_minor": 5
}
