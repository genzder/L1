{
 "cells": [
  {
   "cell_type": "code",
   "execution_count": null,
   "id": "8cec7b56",
   "metadata": {},
   "outputs": [],
   "source": [
    "#\n",
    "#Сложность алгоритма линейная зависит от количества элементов в массиве. O(n).\n",
    "\n",
    "m1 = [1, 12, 9, 6]\n",
    "m2 = [23, 1, 6, 72]\n",
    "\n",
    "xcros = [x for x in m1 if x in m2]\n",
    "\n",
    "print(xcros)"
   ]
  }
 ],
 "metadata": {
  "language_info": {
   "name": "python"
  }
 },
 "nbformat": 4,
 "nbformat_minor": 5
}
